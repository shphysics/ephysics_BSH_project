{
 "cells": [
  {
   "cell_type": "code",
   "execution_count": 1,
   "id": "1ed7cc97",
   "metadata": {},
   "outputs": [],
   "source": [
    "f=open(\"icsd_full_properties_tab_unique.txt\",\"r\")\n",
    "lines=f.readlines()"
   ]
  },
  {
   "cell_type": "code",
   "execution_count": 2,
   "id": "420ec924",
   "metadata": {},
   "outputs": [],
   "source": [
    "def remove_parentheses(string):\n",
    "    \"\"\"\n",
    "    This function takes in a string and removes all parentheses from it.\n",
    "    \"\"\"\n",
    "    # Define a string of parentheses to remove\n",
    "    parentheses = \"()\"\n",
    "    # Use the str.maketrans() method to create a translation table\n",
    "    translation_table = str.maketrans(\"\", \"\", parentheses)\n",
    "    # Use the translate() method to remove the parentheses from the string\n",
    "    return string.translate(translation_table)\n",
    "\n",
    "def remove_duplicates(lst):\n",
    "    \"\"\"\n",
    "    This function takes in a list and removes any repeated elements,\n",
    "    returning a new list with only unique elements.\n",
    "    \"\"\"\n",
    "    # Create an empty dictionary to store the unique elements\n",
    "    unique_dict = {}\n",
    "    # Loop through each element in the input list\n",
    "    for element in lst:\n",
    "        # Add the element to the dictionary as a key (with value None)\n",
    "        unique_dict[element] = None\n",
    "    # Return the new list of unique elements (i.e. the keys of the dictionary)\n",
    "    return list(unique_dict.keys())"
   ]
  },
  {
   "cell_type": "code",
   "execution_count": 4,
   "id": "a779267d",
   "metadata": {},
   "outputs": [],
   "source": [
    "num_icsd_lines = len(lines)\n",
    "forms_w_duplicates = []\n",
    "for i in range(num_icsd_lines):\n",
    "    info_comp_lst = lines[i].split('\\t')\n",
    "    formula = info_comp_lst[1]\n",
    "    form_str_w_spaces = formula[0:(len(formula)-1)]\n",
    "    form_str_wo_spaces = \"\".join(form_str_w_spaces.split())\n",
    "    form_str_wo_parens = remove_parentheses(form_str_wo_spaces)\n",
    "    forms_w_duplicates.append(form_str_wo_parens)\n",
    "\n",
    "forms_wo_duplicates = remove_duplicates(forms_w_duplicates)\n",
    "\n",
    "    # Open the output file for writing\n",
    "with open(\"icsd_full.txt\", \"w\") as file:\n",
    "    for form in forms_wo_duplicates:\n",
    "        file.write(form + \"\\n\")\n",
    "f.close()"
   ]
  }
 ],
 "metadata": {
  "kernelspec": {
   "display_name": "Python 3 (ipykernel)",
   "language": "python",
   "name": "python3"
  },
  "language_info": {
   "codemirror_mode": {
    "name": "ipython",
    "version": 3
   },
   "file_extension": ".py",
   "mimetype": "text/x-python",
   "name": "python",
   "nbconvert_exporter": "python",
   "pygments_lexer": "ipython3",
   "version": "3.11.2"
  }
 },
 "nbformat": 4,
 "nbformat_minor": 5
}
