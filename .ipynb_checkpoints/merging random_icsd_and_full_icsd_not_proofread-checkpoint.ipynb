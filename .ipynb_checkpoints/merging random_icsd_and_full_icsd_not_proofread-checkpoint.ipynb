{
 "cells": [
  {
   "cell_type": "code",
   "execution_count": 14,
   "metadata": {},
   "outputs": [],
   "source": [
    "import numpy as np\n",
    "import sklearn\n",
    "import csv\n",
    "import pandas as pd\n",
    "import pymatgen as mg\n",
    "from mp_api.client import MPRester\n",
    "import random\n",
    "import os\n",
    "from bisect import bisect_left\n",
    "from sklearn import preprocessing\n",
    "from sklearn.utils import Bunch\n",
    "from sklearn import datasets, linear_model\n",
    "from sklearn.linear_model import LogisticRegression\n",
    "from sklearn.metrics import mean_squared_error, r2_score\n",
    "from sklearn.preprocessing import StandardScaler\n",
    "import sys"
   ]
  },
  {
   "cell_type": "code",
   "execution_count": 17,
   "metadata": {},
   "outputs": [
    {
     "name": "stderr",
     "output_type": "stream",
     "text": [
      "Retrieving MaterialsDoc documents: 100%|██████████████| 1/1 [00:00<00:00, 9642.08it/s]\n"
     ]
    },
    {
     "name": "stdout",
     "output_type": "stream",
     "text": [
      "Full Formula (Lu2 Al4)\n",
      "Reduced Formula: LuAl2\n",
      "abc   :   5.453441   5.453442   5.453442\n",
      "angles:  59.999994  59.999988  60.000012\n",
      "pbc   :       True       True       True\n",
      "Sites (6)\n",
      "  #  SP        a       b      c    magmom\n",
      "---  ----  -----  ------  -----  --------\n",
      "  0  Lu    0.875   0.875  0.875        -0\n",
      "  1  Lu    0.125   0.125  0.125        -0\n",
      "  2  Al    0.5     0.5    0.5          -0\n",
      "  3  Al    0.5     0.5    0            -0\n",
      "  4  Al    0       0.5    0.5          -0\n",
      "  5  Al    0.5    -0      0.5          -0\n"
     ]
    },
    {
     "name": "stderr",
     "output_type": "stream",
     "text": [
      "Retrieving MaterialsDoc documents: 100%|█████████████| 1/1 [00:00<00:00, 24385.49it/s]\n"
     ]
    },
    {
     "name": "stdout",
     "output_type": "stream",
     "text": [
      "Full Formula (B1 P1)\n",
      "Reduced Formula: BP\n",
      "abc   :   3.204710   3.204710   3.204711\n",
      "angles:  60.000009  60.000001  60.000002\n",
      "pbc   :       True       True       True\n",
      "Sites (2)\n",
      "  #  SP        a     b      c    magmom\n",
      "---  ----  -----  ----  -----  --------\n",
      "  0  B     -0     0     -0           -0\n",
      "  1  P      0.25  0.25   0.25        -0\n"
     ]
    },
    {
     "name": "stderr",
     "output_type": "stream",
     "text": [
      "Retrieving ElectronicStructureDoc documents: 100%|███| 1/1 [00:00<00:00, 17697.49it/s]\n",
      "Retrieving ElectronicStructureDoc documents: 100%|███| 1/1 [00:00<00:00, 19152.07it/s]\n",
      "Retrieving ElectronicStructureDoc documents: 100%|███| 1/1 [00:00<00:00, 29127.11it/s]\n",
      "Retrieving ElectronicStructureDoc documents: 100%|███| 1/1 [00:00<00:00, 21399.51it/s]\n"
     ]
    }
   ],
   "source": [
    "with MPRester(\"ejwlBG5dh96U3jGxEkI4FdQcUuum9WCD\") as m:\n",
    "\n",
    "    # Structure for material id\n",
    "    structure1 = m.get_structure_by_material_id(\"mp-1234\")\n",
    "    print(structure1)\n",
    "    \n",
    "    structure2 =m.get_structure_by_material_id(\"mp-1479\")\n",
    "    print(structure2)\n",
    "    \n",
    "    # Dos for material id\n",
    "    dos = m.get_dos_by_material_id(\"mp-1234\")\n",
    "\n",
    "    # Bandstructure for material id\n",
    "    bandstructure = m.get_bandstructure_by_material_id(\"mp-1234\")"
   ]
  },
  {
   "cell_type": "code",
   "execution_count": 38,
   "metadata": {},
   "outputs": [],
   "source": [
    "full_in_icsd_txt=open(\"full_in_icsd.txt\",\"r\")\n",
    "lines=full_in_icsd_txt.readlines()\n",
    "full_in_icsd_no_spaces = []\n",
    "for line in lines:\n",
    "    full_in_icsd_no_spaces.append(line.strip())"
   ]
  },
  {
   "cell_type": "code",
   "execution_count": 39,
   "metadata": {},
   "outputs": [],
   "source": [
    "random_in_icsd_txt=open(\"random_in_icsd.txt\",\"r\")\n",
    "radom_in_icsd_line=random_in_icsd_txt.readlines()\n",
    "random_in_icsd_no_spaces = []\n",
    "for line in radom_in_icsd_line:\n",
    "    random_in_icsd_no_spaces.append(line.strip())"
   ]
  },
  {
   "cell_type": "code",
   "execution_count": 40,
   "metadata": {},
   "outputs": [],
   "source": [
    "not_in_icsd_txt = open(\"random_no_icsd.txt\",\"r\")\n",
    "not_in_icsd_line= not_in_icsd_txt.readlines()\n",
    "not_in_icsd_no_spaces = []\n",
    "for line in not_in_icsd_line:\n",
    "    not_in_icsd_no_spaces.append(line.strip())"
   ]
  },
  {
   "cell_type": "code",
   "execution_count": 41,
   "metadata": {},
   "outputs": [
    {
     "name": "stdout",
     "output_type": "stream",
     "text": [
      "The subset list is not a subset of the longer list.\n"
     ]
    }
   ],
   "source": [
    "if set(random_in_icsd_no_spaces).issubset(set(full_in_icsd_no_spaces)):\n",
    "    print(\"The subset list is a subset of the longer list.\")\n",
    "else:\n",
    "    print(\"The subset list is not a subset of the longer list.\")"
   ]
  },
  {
   "cell_type": "code",
   "execution_count": null,
   "metadata": {},
   "outputs": [],
   "source": [
    "common_elements = [elem for elem in shorter_list if elem in longer_list]\n",
    "\n",
    "print(\"Common elements between the two lists:\")\n",
    "print(common_elements)\n",
    "Here's how the program works:\n",
    "\n",
    "The variable longer_list is initialized with a longer list of strings.\n",
    "The variable shorter_list is initialized with a shorter list of strings.\n",
    "A list comprehension is used to create a new list called common_elements. The comprehension iterates through each element in shorter_list, and only adds it to the new list if it is also found in longer_list.\n",
    "Finally, the program prints the common_elements list.\n",
    "Note that the if elem in longer_list clause checks if each element in shorter_list is also in longer_list. If it is, the element is added to the common_elements list. If not, the element is skipped over.\n",
    "\n",
    "Also, keep in mind that this implementation has a time complexity of O(n^2), where n is the length of shorter_list. If both lists are large, this approach may not be efficient. In such cases, other data structures like sets or dictionaries can be used to achieve better performance.\n",
    "\n",
    "\n",
    "\n",
    "\n"
   ]
  }
 ],
 "metadata": {
  "kernelspec": {
   "display_name": "Python 3 (ipykernel)",
   "language": "python",
   "name": "python3"
  },
  "language_info": {
   "codemirror_mode": {
    "name": "ipython",
    "version": 3
   },
   "file_extension": ".py",
   "mimetype": "text/x-python",
   "name": "python",
   "nbconvert_exporter": "python",
   "pygments_lexer": "ipython3",
   "version": "3.11.2"
  }
 },
 "nbformat": 4,
 "nbformat_minor": 4
}
